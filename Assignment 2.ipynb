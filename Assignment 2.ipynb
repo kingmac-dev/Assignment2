{
 "cells": [
  {
   "cell_type": "markdown",
   "id": "63050a11-1905-4dcb-a09e-d0fc8287efc0",
   "metadata": {},
   "source": [
    "# ASSIGNMENT - 2"
   ]
  },
  {
   "cell_type": "markdown",
   "id": "166b5143-b3df-490c-a198-98ba858f4a63",
   "metadata": {},
   "source": [
    "Question 1 :- How can we store a single quote (‘) as a string in a variable?"
   ]
  },
  {
   "cell_type": "markdown",
   "id": "16c88770-83b0-4971-a007-c574e0bd7265",
   "metadata": {},
   "source": [
    "Answer 1 :- \n",
    "\n",
    "There are two ways to store a single quote (') as a string in a variable in Python.\n",
    "\n",
    "Use single quotes to enclose the string :- \n",
    "This is the simplest way to do it, but it only works if the single quote is the only special character in the string. For example, the following code will store the string \"'single quote'\" in the variable my_string:"
   ]
  },
  {
   "cell_type": "code",
   "execution_count": 1,
   "id": "a951a58c-1b2d-410c-8df0-b818b6d4c0d4",
   "metadata": {},
   "outputs": [],
   "source": [
    "my_string = \"'Single quote'\""
   ]
  },
  {
   "cell_type": "code",
   "execution_count": 2,
   "id": "1768451b-7cc0-4f97-88a9-67b6ee2794bd",
   "metadata": {},
   "outputs": [
    {
     "name": "stdout",
     "output_type": "stream",
     "text": [
      "'Single quote'\n"
     ]
    }
   ],
   "source": [
    "print(my_string)"
   ]
  },
  {
   "cell_type": "markdown",
   "id": "8e061b55-4817-4a4c-af1a-243130a06140",
   "metadata": {},
   "source": [
    "\n",
    "Use backslashes to escape the single quote :- \n",
    "This is the more common way to do it, and it works even if the single quote is not the only special character in the string. For example, the following code will also store the string \"'single quote'\" in the variable my_string:\n"
   ]
  },
  {
   "cell_type": "code",
   "execution_count": 6,
   "id": "c67a0ec3-0eb7-4904-bb81-6b76f6c5985f",
   "metadata": {},
   "outputs": [],
   "source": [
    "my_string = \"\\'Single quote\\'\""
   ]
  },
  {
   "cell_type": "code",
   "execution_count": 7,
   "id": "b9ef976f-bb58-43dd-98dd-0966a71bc98c",
   "metadata": {},
   "outputs": [
    {
     "name": "stdout",
     "output_type": "stream",
     "text": [
      "'Single quote'\n"
     ]
    }
   ],
   "source": [
    "print(my_string)"
   ]
  },
  {
   "cell_type": "markdown",
   "id": "ec6d040d-cf26-431d-bfcb-c4e099a7974f",
   "metadata": {},
   "source": [
    "\n",
    "In this example, the single quote inside the string is escaped using a backslash ( \\ ). This tells Python to interpret the single quote literally as part of the string.\n",
    "\n",
    "\n",
    "The backslash character ( \\ ) is used to escape special characters in strings in Python. This means that you can use the backslash to escape any character that has a special meaning in Python, such as a newline character, a tab character, or a single quote."
   ]
  },
  {
   "cell_type": "markdown",
   "id": "51bf8596-66c1-4eaf-9906-c4ca5c3caf18",
   "metadata": {},
   "source": [
    "Question 2 :-  Refer the below var1able:\n",
    "x = ‘a'\n",
    "Here, is x a character type or string type variable? Support your answer w1th an explanat1on."
   ]
  },
  {
   "cell_type": "markdown",
   "id": "1e5a5834-9f89-4a8c-92d8-b82ff1759caf",
   "metadata": {},
   "source": [
    " Answer 2 :- x = 'a' is a string type variable. This is because the single quote (') is used to enclose strings in Python. A string is a sequence of characters, and in this case, the string is just one character, the letter a."
   ]
  },
  {
   "cell_type": "markdown",
   "id": "fd5b8ca4-a9af-49dc-b086-85d9f9b7eac4",
   "metadata": {},
   "source": [
    "If x were a character type variable, then the single quote would be interpreted as the end of the variable. However, since x is a string type variable, the single quote is interpreted as part of the string.\n",
    "\n",
    "We can confirm that x is a string type variable by using the type() function. The type() function returns the data type of a variable. In this case, the following code will print the following output:"
   ]
  },
  {
   "cell_type": "code",
   "execution_count": 8,
   "id": "8ff3b28f-7f2d-43dd-914b-4914862d0518",
   "metadata": {},
   "outputs": [],
   "source": [
    "x='a'"
   ]
  },
  {
   "cell_type": "code",
   "execution_count": 9,
   "id": "c8c62897-a927-454f-bd1c-9f0bae20baf3",
   "metadata": {},
   "outputs": [
    {
     "name": "stdout",
     "output_type": "stream",
     "text": [
      "<class 'str'>\n"
     ]
    }
   ],
   "source": [
    "print(type(x))"
   ]
  },
  {
   "cell_type": "markdown",
   "id": "5ee6fbd8-5b63-4cfd-9262-b5072d194cf2",
   "metadata": {},
   "source": [
    "This confirms that x is a string type variable."
   ]
  },
  {
   "cell_type": "markdown",
   "id": "33ef4581-267e-4604-9492-b34ea460ed7b",
   "metadata": {},
   "source": [
    "Q3. Apply the following functions on this variable: 'Welcome to Python foundation course'\n",
    "\n",
    "1. find()\n",
    "\n",
    "2. count()\n",
    "\n",
    "3. len()\n",
    "\n",
    "4. Concatenation\n",
    "\n",
    "Note: You can use your choice of parameters. But make sure it is correct."
   ]
  },
  {
   "cell_type": "markdown",
   "id": "64c08041-c7f6-4015-865e-bd1d34039ef3",
   "metadata": {},
   "source": [
    "Answer 3 :-"
   ]
  },
  {
   "cell_type": "code",
   "execution_count": 10,
   "id": "a684d7ff-476a-4572-b817-60ad7d52c081",
   "metadata": {},
   "outputs": [],
   "source": [
    "x='Welcome to Python Foundation course'"
   ]
  },
  {
   "cell_type": "code",
   "execution_count": 19,
   "id": "b9676671-c648-47aa-bd63-eb3728b053cf",
   "metadata": {},
   "outputs": [
    {
     "data": {
      "text/plain": [
       "0"
      ]
     },
     "execution_count": 19,
     "metadata": {},
     "output_type": "execute_result"
    }
   ],
   "source": [
    "x.find('W')"
   ]
  },
  {
   "cell_type": "code",
   "execution_count": 21,
   "id": "b0dab903-44d0-4383-abfe-5f64ce7f7833",
   "metadata": {},
   "outputs": [
    {
     "data": {
      "text/plain": [
       "2"
      ]
     },
     "execution_count": 21,
     "metadata": {},
     "output_type": "execute_result"
    }
   ],
   "source": [
    "x.count('u')"
   ]
  },
  {
   "cell_type": "code",
   "execution_count": 27,
   "id": "7b64bfd2-b3d3-48ff-8634-4348d53e39dd",
   "metadata": {},
   "outputs": [
    {
     "data": {
      "text/plain": [
       "35"
      ]
     },
     "execution_count": 27,
     "metadata": {},
     "output_type": "execute_result"
    }
   ],
   "source": [
    "len(x)"
   ]
  },
  {
   "cell_type": "code",
   "execution_count": 28,
   "id": "3127a057-4b1f-4a5b-baca-36996dc50257",
   "metadata": {},
   "outputs": [],
   "source": [
    "x=\"Welcome to Python\"\n",
    "y=\"Foundation course\""
   ]
  },
  {
   "cell_type": "code",
   "execution_count": 32,
   "id": "dad8c523-39e1-4193-8ef6-c41cfacbe5fa",
   "metadata": {},
   "outputs": [
    {
     "name": "stdout",
     "output_type": "stream",
     "text": [
      "Welcome to Python Foundation course\n"
     ]
    }
   ],
   "source": [
    "print(x+\" \"+y)"
   ]
  },
  {
   "cell_type": "markdown",
   "id": "226feaf4-5733-4830-a6af-075d7d6f61d9",
   "metadata": {},
   "source": [
    "Q4. For the variable: word Calculate the following:\n",
    "\n",
    "= 'PanaJi@12256'\n",
    "\n",
    "(a) Total number of alphabets in lowercase\n",
    "\n",
    "(b) Total number of alphabets in uppercase \n",
    "\n",
    "(c) Total number of numerical in string"
   ]
  },
  {
   "cell_type": "code",
   "execution_count": 35,
   "id": "12a8c342-d84c-4c05-92f4-b12da3fb2e33",
   "metadata": {},
   "outputs": [],
   "source": [
    "x= \"PanaJi@12256\""
   ]
  },
  {
   "cell_type": "code",
   "execution_count": 52,
   "id": "22219743-bf7d-472e-becd-7eb7e34b392c",
   "metadata": {},
   "outputs": [
    {
     "data": {
      "text/plain": [
       "2"
      ]
     },
     "execution_count": 52,
     "metadata": {},
     "output_type": "execute_result"
    }
   ],
   "source": [
    "len(list(filter(lambda x: x.isupper(), x)))"
   ]
  },
  {
   "cell_type": "code",
   "execution_count": 53,
   "id": "d57729cb-0f7d-4308-80cc-5e5f701ec2aa",
   "metadata": {},
   "outputs": [
    {
     "data": {
      "text/plain": [
       "4"
      ]
     },
     "execution_count": 53,
     "metadata": {},
     "output_type": "execute_result"
    }
   ],
   "source": [
    "len(list(filter(lambda x: x.islower(), x)))"
   ]
  },
  {
   "cell_type": "code",
   "execution_count": 54,
   "id": "125e4993-54ba-4f28-a2a0-fb71f5d91c6f",
   "metadata": {},
   "outputs": [
    {
     "data": {
      "text/plain": [
       "5"
      ]
     },
     "execution_count": 54,
     "metadata": {},
     "output_type": "execute_result"
    }
   ],
   "source": [
    "len(list(filter(lambda x: x.isdigit(), x)))"
   ]
  },
  {
   "cell_type": "markdown",
   "id": "3eea12a8-db7d-4b8f-b8cc-e1ee36f4b492",
   "metadata": {},
   "source": [
    "Q5. Write a code to store a numerical value inside a variable then convert it into string."
   ]
  },
  {
   "cell_type": "markdown",
   "id": "d301d816-0cd9-4026-94d6-a228321ce5f3",
   "metadata": {},
   "source": [
    "Answer :- Code to store a numerical value inside a variable then convert it into string are as follows :-"
   ]
  },
  {
   "cell_type": "code",
   "execution_count": 3,
   "id": "e030553a-6b58-4b65-b92c-b004fb16d9e8",
   "metadata": {},
   "outputs": [],
   "source": [
    "# Store a numerical value inside a variable\n",
    "num = 5\n"
   ]
  },
  {
   "cell_type": "code",
   "execution_count": 4,
   "id": "b47b2e41-28fb-4d86-8314-19cd4e40560f",
   "metadata": {},
   "outputs": [],
   "source": [
    "# Convert the numerical value into a string\n",
    "num_str = str(num)\n"
   ]
  },
  {
   "cell_type": "code",
   "execution_count": 5,
   "id": "ecfd8409-405a-4ed8-8eb5-fdad12973b74",
   "metadata": {},
   "outputs": [
    {
     "name": "stdout",
     "output_type": "stream",
     "text": [
      "5\n"
     ]
    }
   ],
   "source": [
    "# Print the result\n",
    "print(num_str)"
   ]
  },
  {
   "cell_type": "markdown",
   "id": "e0520ed5-191c-45b8-8709-a979fef43fa4",
   "metadata": {},
   "source": [
    "This code stores the value 5 inside the variable num. Then, it uses the str() function to convert the numerical value into a string and stores it in the variable num_str. Finally, it prints the result using the print() function. The output of this code will be '5', which is the string representation of the numerical value."
   ]
  }
 ],
 "metadata": {
  "kernelspec": {
   "display_name": "Python 3 (ipykernel)",
   "language": "python",
   "name": "python3"
  },
  "language_info": {
   "codemirror_mode": {
    "name": "ipython",
    "version": 3
   },
   "file_extension": ".py",
   "mimetype": "text/x-python",
   "name": "python",
   "nbconvert_exporter": "python",
   "pygments_lexer": "ipython3",
   "version": "3.10.8"
  }
 },
 "nbformat": 4,
 "nbformat_minor": 5
}
